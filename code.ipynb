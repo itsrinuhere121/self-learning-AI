{
 "cells": [
  {
   "cell_type": "code",
   "execution_count": null,
   "metadata": {},
   "outputs": [
    {
     "name": "stdout",
     "output_type": "stream",
     "text": [
      "   States_Union Territories  2000-01-INC  2011-12-INC  2001 - LIT  2011- LIT  \\\n",
      "17              Maharashtra        22777        93282       90.86      94.00   \n",
      "18                  Manipur        12369        33695       86.66      91.85   \n",
      "23               Puducherry        35994       103149       88.80      91.33   \n",
      "10                  Haryana        25583       106320       82.01      88.70   \n",
      "30              Uttarakhand        15285        85372       73.19      87.22   \n",
      "4                     Bihar         6415        22582       47.00      61.80   \n",
      "2         Arunachal Pradesh        15260        71366       54.34      65.39   \n",
      "15                   Kerala        20094        82753       53.56      66.41   \n",
      "1            Andhra Pradesh        17195        64773       60.47      67.02   \n",
      "14                Karnataka        18344        68053       55.52      67.16   \n",
      "\n",
      "    2001 - POP  2011- POP  2001 -SEX_Ratio  2011 -SEX_Ratio  2001 -UNEMP  \\\n",
      "17       96879     112374              922              929           14   \n",
      "18        2294       2856              978              992           19   \n",
      "23         974       1248             1001             1037           40   \n",
      "10       21145      25351              861              879            8   \n",
      "30        8489      10086              962              963           22   \n",
      "4        82999     104099              919              918           18   \n",
      "2         1098       1384              893              938            5   \n",
      "15       31841      33406             1058             1084           82   \n",
      "1        76210      84581              978              993            8   \n",
      "14       52851      61095              965              973            7   \n",
      "\n",
      "    2011 -UNEMP  2001 -Poverty  2011 -Poverty Performance  \n",
      "17            7          25.02          17.35        Best  \n",
      "18           26          28.54          36.89        Best  \n",
      "23            8          21.67           9.69        Best  \n",
      "10           24           8.74          11.16        Best  \n",
      "30           25          10.56          11.26        Best  \n",
      "4            32          42.60          33.74       Worst  \n",
      "2            17          33.47          34.67       Worst  \n",
      "15           68          12.72           7.05       Worst  \n",
      "1            12          15.77           9.20       Worst  \n",
      "14            9          20.04          20.91       Worst  \n"
     ]
    }
   ],
   "source": [
    "import pandas as pd\n",
    "\n",
    "# Replace 'your_file.csv' with the path to your CSV file\n",
    "file_path = \"./data/data.csv\"\n",
    "\n",
    "# Load the CSV file into a pandas DataFrame\n",
    "data = pd.read_csv(file_path)\n",
    "\n",
    "# Display the first few rows of the DataFrame\n",
    "# print(data.head())\n",
    "# Step 2: Choose a metric to evaluate performance (e.g., 2011 - LIT as literacy rate)\n",
    "metric = \"2011- LIT\"\n",
    "\n",
    "# Calculate top 5 best and worst performing states\n",
    "top_5_best = data.nlargest(5, metric)\n",
    "top_5_worst = data.nsmallest(5, metric)\n",
    "\n",
    "# Combine into one DataFrame with an additional column indicating performance\n",
    "top_5_best[\"Performance\"] = \"Best\"\n",
    "top_5_worst[\"Performance\"] = \"Worst\"\n",
    "result = pd.concat([top_5_best, top_5_worst])\n",
    "print(result)\n",
    "#DBC\n"
   ]
  },
  {
   "cell_type": "code",
   "execution_count": null,
   "metadata": {},
   "outputs": [],
   "source": []
  }
 ],
 "metadata": {
  "kernelspec": {
   "display_name": "Python 3",
   "language": "python",
   "name": "python3"
  },
  "language_info": {
   "codemirror_mode": {
    "name": "ipython",
    "version": 3
   },
   "file_extension": ".py",
   "mimetype": "text/x-python",
   "name": "python",
   "nbconvert_exporter": "python",
   "pygments_lexer": "ipython3",
   "version": "3.12.0"
  }
 },
 "nbformat": 4,
 "nbformat_minor": 2
}
